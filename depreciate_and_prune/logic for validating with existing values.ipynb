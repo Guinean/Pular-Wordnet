{
 "cells": [
  {
   "cell_type": "code",
   "execution_count": 1,
   "metadata": {},
   "outputs": [],
   "source": [
    "# altair to visualize the data. read in pickle\n",
    "# determine df shape for this to work\n",
    "# import birdseye and snoop\n",
    "import snoop\n",
    "import altair as alt\n",
    "# from vega_datasets import data\n",
    "from typing import Optional, Dict, List, Any, Union, Tuple\n",
    "import pydantic\n",
    "from pydantic import ValidationError, validator, root_validator, Field, constr, BaseModel\n",
    "from pydantic_docx import Docx_Paragraph_and_Runs, read_docx, extract_features #type:ignore\n",
    "from pydantic_docx_processor import create_sized_dataframe, expand_dataframe #type:ignore\n",
    "import re\n",
    "import json\n",
    "from itertools import compress, chain\n",
    "from datetime import datetime\n",
    "import pandas as pd\n",
    "import numpy as np\n",
    "from functools import partial\n",
    "import pickle"
   ]
  },
  {
   "cell_type": "code",
   "execution_count": 146,
   "metadata": {},
   "outputs": [
    {
     "name": "stdout",
     "output_type": "stream",
     "text": [
      "<class '__main__.masked_strings'>\n",
      "{'masks': array([False, False, False])}\n",
      "<class '__main__.masked_strings'>\n",
      "checked=True present=True strings=['i', 'love', 'stacy'] masks=array([False, False, False])\n",
      "<class '__main__.masked_strings'>\n",
      "<class '__main__.masked_strings'>\n"
     ]
    },
    {
     "data": {
      "text/plain": [
       "masked_strings(checked=True, present=True, strings=['i', 'love', 'stacy'], masks=array([False, False, False]))"
      ]
     },
     "execution_count": 146,
     "metadata": {},
     "output_type": "execute_result"
    }
   ],
   "source": [
    "# def test_func(input_stuff):\n",
    "#    # print(input_stuff)\n",
    "#    def item(**kwargs):\n",
    "#       print('test')\n",
    "#       print(dir(input_stuff))\n",
    "#       print(dict(input_stuff))\n",
    "#       print(kwargs)\n",
    "#       result = input_stuff.parse_obj(kwargs)\n",
    "#       print(result)\n",
    "#       return result\n",
    "#       # print(kwargs)\n",
    "#    return item\n",
    "\n",
    "\n",
    "def chS_update(obj,attrs: Dict[str,Any],in_place = False):\n",
    "   \"\"\"check self update - calls setattr but passes in a dict.\n",
    "   calls obj.dict and for each key:value pair in the attrs dict, passes a dict containing the key:value pair, \n",
    "   as well as \"current_state\":obj.dict(). This will allow pydantic models to check current states for values with complex conditional validations\n",
    "   'attrs': acceps a dict of attributes names:values\n",
    "   \"\"\"\n",
    "   if not in_place:\n",
    "      obj = obj.copy()\n",
    "   current_state = obj.dict()\n",
    "   for key,val in attrs.items():\n",
    "      print(key)\n",
    "      print(val)\n",
    "      obj = obj.validate(*{key:val,'current_state':current_state})\n",
    "      setattr(obj,key,)\n",
    "   if not in_place:\n",
    "      return obj\n",
    "\n",
    "# @test_func\n",
    "class masked_strings(pydantic.BaseModel):\n",
    "   checked : bool\n",
    "   present : Optional[bool]\n",
    "   strings : Optional[List[str]]\n",
    "   masks : Optional[np.ndarray]\n",
    "   #validate assignment, ensure lengths\n",
    "   #functions for regex that update submasks\n",
    "   #functions for regex that only check whole runs\n",
    "\n",
    "   class Config:\n",
    "      validate_all = True\n",
    "      validate_assignment = True\n",
    "      # smart_union = True \n",
    "      arbitrary_types_allowed = True \n",
    "      extra = 'forbid'\n",
    "\n",
    "\n",
    "   @root_validator(pre=False)\n",
    "   def validate_lengths(cls,values):\n",
    "      enforce_lengths_on = ['strings','masks']\n",
    "      # lists = []\n",
    "      # for feat in enforce_lengths_on:\n",
    "      #    if feat not in values:\n",
    "      #       lists.append(current_state)\n",
    "      print(cls)\n",
    "      if 'strings' in values and 'masks' in values and len(values['masks']) != len(values['strings']):\n",
    "         raise ValueError('strings and mask do not match')\n",
    "      current_state = values.get('current_state',False)\n",
    "      if current_state:\n",
    "         if 'strings' in current_state and len(values['masks']) != len(current_state['strings']):\n",
    "            raise ValueError('strings and mask do not match')\n",
    "      return values\n",
    "\n",
    "   def update(self,**kwargs):\n",
    "      current_state = self.dict()\n",
    "      current_state.update(kwargs)\n",
    "      # kwargs['current_state'] = self.obj.dict()\n",
    "      print(kwargs)\n",
    "      print(self.parse_obj(current_state))\n",
    "      # self = self.parse_obj(current_state)\n",
    "      try:\n",
    "         self.validate(current_state)\n",
    "         for k,v in kwargs.items():\n",
    "            setattr(self,k,v)\n",
    "      except:\n",
    "         raise\n",
    "class check_wrapper(pydantic.BaseModel):\n",
    "   obj : masked_strings\n",
    "\n",
    "   def update(self,**kwargs):\n",
    "      current_state = self.obj.dict()\n",
    "      current_state.update(kwargs)\n",
    "      # kwargs['current_state'] = self.obj.dict()\n",
    "      print(kwargs)\n",
    "      self.obj = self.obj.validate(current_state)\n",
    "test = masked_strings(checked=True,present=True,strings=['i','love','stacy'],masks=np.array([True,True,True]))\n",
    "# test = masked_strings.parse_obj({'checked': True, 'present': True, 'strings': ['i', 'love', 'stacy'], 'masks': np.array([ True,  True,  True])})\n",
    "# print(test.dict())\n",
    "# print(dir(test))\n",
    "ctest = check_wrapper(obj=test)\n",
    "# test.validate({ 'masks': np.array([ True, True, True])})\n",
    "# test.validate({'checked': True, 'present': True, 'strings': ['i', 'love', 'stacy'], 'masks': np.array([ True,  True,  True])})\n",
    "test.update(**{'masks': np.array([False,False,False])})\n",
    "test\n",
    "# print(test.strings +['plots'])\n",
    "# chS_update(test,{'strings':test.strings +['plots']})\n",
    "# test.strings\n",
    "# test.dict('a')"
   ]
  },
  {
   "cell_type": "code",
   "execution_count": 60,
   "metadata": {},
   "outputs": [
    {
     "name": "stdout",
     "output_type": "stream",
     "text": [
      "test\n",
      "['Config', '__abstractmethods__', '__annotations__', '__class__', '__class_vars__', '__config__', '__custom_root_type__', '__delattr__', '__dict__', '__dir__', '__doc__', '__eq__', '__exclude_fields__', '__fields__', '__fields_set__', '__format__', '__ge__', '__get_validators__', '__getattribute__', '__getstate__', '__gt__', '__hash__', '__include_fields__', '__init__', '__init_subclass__', '__iter__', '__json_encoder__', '__le__', '__lt__', '__module__', '__ne__', '__new__', '__post_root_validators__', '__pre_root_validators__', '__pretty__', '__private_attributes__', '__reduce__', '__reduce_ex__', '__repr__', '__repr_args__', '__repr_name__', '__repr_str__', '__schema_cache__', '__setattr__', '__setstate__', '__signature__', '__sizeof__', '__slots__', '__str__', '__subclasshook__', '__try_update_forward_refs__', '__validators__', '_abc_impl', '_calculate_keys', '_copy_and_set_values', '_decompose_class', '_enforce_dict_if_root', '_get_value', '_init_private_attributes', '_iter', 'construct', 'copy', 'dict', 'from_orm', 'json', 'parse_file', 'parse_obj', 'parse_raw', 'schema', 'schema_json', 'update_forward_refs', 'validate', 'validate_lengths']\n",
      "checked=True present=True strings=['i', 'love', 'stacy'] masks=array([ True,  True,  True])\n",
      "{'checked': True, 'present': True, 'strings': ['i', 'love', 'stacy'], 'masks': array([ True,  True,  True])}\n",
      "None\n"
     ]
    },
    {
     "ename": "AttributeError",
     "evalue": "'NoneType' object has no attribute 'strings'",
     "output_type": "error",
     "traceback": [
      "\u001b[1;31m---------------------------------------------------------------------------\u001b[0m",
      "\u001b[1;31mAttributeError\u001b[0m                            Traceback (most recent call last)",
      "\u001b[1;32m~\\AppData\\Local\\Temp\\ipykernel_13612\\2183516908.py\u001b[0m in \u001b[0;36m<module>\u001b[1;34m\u001b[0m\n\u001b[0;32m      2\u001b[0m \u001b[0mprint\u001b[0m\u001b[1;33m(\u001b[0m\u001b[0mtest\u001b[0m\u001b[1;33m)\u001b[0m\u001b[1;33m\u001b[0m\u001b[1;33m\u001b[0m\u001b[0m\n\u001b[0;32m      3\u001b[0m \u001b[1;31m# test.strings.append('plots')\u001b[0m\u001b[1;33m\u001b[0m\u001b[1;33m\u001b[0m\u001b[1;33m\u001b[0m\u001b[0m\n\u001b[1;32m----> 4\u001b[1;33m \u001b[0mtest\u001b[0m\u001b[1;33m.\u001b[0m\u001b[0mstrings\u001b[0m\u001b[1;33m\u001b[0m\u001b[1;33m\u001b[0m\u001b[0m\n\u001b[0m",
      "\u001b[1;31mAttributeError\u001b[0m: 'NoneType' object has no attribute 'strings'"
     ]
    }
   ],
   "source": []
  }
 ],
 "metadata": {
  "kernelspec": {
   "display_name": "Python 3.7.8 ('.pular_venv': venv)",
   "language": "python",
   "name": "python3"
  },
  "language_info": {
   "codemirror_mode": {
    "name": "ipython",
    "version": 3
   },
   "file_extension": ".py",
   "mimetype": "text/x-python",
   "name": "python",
   "nbconvert_exporter": "python",
   "pygments_lexer": "ipython3",
   "version": "3.7.8"
  },
  "orig_nbformat": 4,
  "vscode": {
   "interpreter": {
    "hash": "923e031a042b0333d984d7caca79dafbd2f9b4aa22c38d0c8e773771fd0f73dd"
   }
  }
 },
 "nbformat": 4,
 "nbformat_minor": 2
}
