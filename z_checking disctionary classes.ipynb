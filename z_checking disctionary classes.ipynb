{
 "cells": [
  {
   "cell_type": "code",
   "execution_count": 12,
   "metadata": {},
   "outputs": [
    {
     "data": {
      "text/plain": [
       "'asajkh'"
      ]
     },
     "execution_count": 12,
     "metadata": {},
     "output_type": "execute_result"
    }
   ],
   "source": [
    "#delimiter type\n",
    "\n",
    "#if word class, applied backward in its list level until find another\n",
    "\n",
    "#case 1, main not []\n",
    "   #split by helv\n",
    "      #part 1 = lemma side\n",
    "         #split by '/'\n",
    "            #part1 == single\n",
    "            #part2 == plural\n",
    "            #part3 error\n",
    "         #copy/split by \\([^0-9]\\)\n",
    "            #each segment is associated with the copied class\n",
    "            #assert len()==1?\n",
    "         #split by ','\n",
    "            #all of these are morphological versions of the same, and all share the same wordclass\n",
    "      #part 2 = syn deets side\n",
    "         #split by ','\n",
    "         #split by '/'\n",
    "      #part3 = error\n",
    "\n",
    "a = 'asajkh dkgj'\n",
    "import re\n",
    "a[:re.search(' ',a).span(0)[0]]\n",
    "[]"
   ]
  },
  {
   "cell_type": "code",
   "execution_count": 59,
   "metadata": {},
   "outputs": [],
   "source": [
    "from itertools import chain,compress\n",
    "import numpy as np"
   ]
  },
  {
   "cell_type": "code",
   "execution_count": 65,
   "metadata": {},
   "outputs": [
    {
     "name": "stdout",
     "output_type": "stream",
     "text": [
      "try\n",
      "alaada, test (o) / alaadaaji (ɗi)  \n",
      "['alaada, test ', 'o', '']\n",
      "[['alaada', 'test']]\n"
     ]
    },
    {
     "data": {
      "text/plain": [
       "'ajkg'"
      ]
     },
     "execution_count": 65,
     "metadata": {},
     "output_type": "execute_result"
    }
   ],
   "source": [
    "run_text=['alaada, test ', '(o) / alaadaaji (ɗi)  ', 'DFzbu  Z<G,A>  [aada/aadaaji]:D,Z<FT> [laada/laadaaji]:DF  [aadi]:Z  [sunna, tawaangal]']\n",
    "run_font_name=['TmsRmn 10pt', 'TmsRmn 10pt', 'Helv 8pt']\n",
    "run_font_name.index('Helv 8pt')\n",
    "# \n",
    "\n",
    "nothelv = ''.join(chain(run_text[:run_font_name.index('Helv 8pt')]))\n",
    "try:\n",
    "   print('try')\n",
    "   if '/' in nothelv:\n",
    "      print(nothelv)\n",
    "      singles,plurals = nothelv.split('/')\n",
    "      singles_classes = re.findall(\"\\(([^0-9\\)]+)\\)\",singles)\n",
    "      singles = re.split(\"\\(([^0-9\\)]+)\\)\",singles.strip())\n",
    "      print(singles)\n",
    "      plurals_classes = re.findall(\"\\(([^0-9\\)]+)\\)\",plurals)\n",
    "      plurals = re.split(\"\\(([^0-9\\)]+)\\)\",plurals)\n",
    "except:\n",
    "   raise\n",
    "   #will exclude this from the analysis later\n",
    "\n",
    "def noun_classes(string):\n",
    "   classes = re.findall(\"\\(([^0-9\\)]+)\\)\",string)\n",
    "   nclass_groups = re.split(\"\\(([^0-9\\)]+)\\)\",string)\n",
    "   nclass_groups = [i for i in nclass_groups if len(i.strip())>0 and i not in classes]\n",
    "   nclass_groups = [[ii.strip() for ii in i.split(',')] for i in nclass_groups]\n",
    "   # nclass_groups = [i.split(',') for i in nclass_groups]\n",
    "   print(nclass_groups)\n",
    "   assert len(nclass_groups) == len(classes), f\"{nclass_groups},\\t{classes}\"\n",
    "   return [{'noun_class':c,'word_group':g} for c,g in zip(classes,nclass_groups)]\n",
    "\n",
    "try:\n",
    "   singles,plurals = nothelv.split('/')\n",
    "except ValueError:\n",
    "   singles = nothelv.split('/')[0]\n",
    "try:\n",
    "   class_dict = noun_classes(singles) \n",
    "except:\n",
    "   class_dict = [{'noun_class': np.nan, 'word_group': np.nan}]\n",
    "';'.join(['ajkg'])"
   ]
  }
 ],
 "metadata": {
  "kernelspec": {
   "display_name": "Python 3.7.8 ('.pular_venv': venv)",
   "language": "python",
   "name": "python3"
  },
  "language_info": {
   "codemirror_mode": {
    "name": "ipython",
    "version": 3
   },
   "file_extension": ".py",
   "mimetype": "text/x-python",
   "name": "python",
   "nbconvert_exporter": "python",
   "pygments_lexer": "ipython3",
   "version": "3.7.8"
  },
  "orig_nbformat": 4,
  "vscode": {
   "interpreter": {
    "hash": "923e031a042b0333d984d7caca79dafbd2f9b4aa22c38d0c8e773771fd0f73dd"
   }
  }
 },
 "nbformat": 4,
 "nbformat_minor": 2
}
