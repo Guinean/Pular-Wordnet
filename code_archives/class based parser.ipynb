{
 "cells": [
  {
   "cell_type": "code",
   "execution_count": null,
   "metadata": {},
   "outputs": [],
   "source": [
    "intention = '''Draft or create a class system to represent the pular entries. \n",
    "Ideally this will contain a way to nest entry objects under a root\n",
    "'''"
   ]
  },
  {
   "cell_type": "code",
   "execution_count": null,
   "metadata": {},
   "outputs": [],
   "source": [
    "class Roots():\n",
    "   '''\n",
    "   Hold the docx roots\n",
    "   validation checks on inputs\n",
    "   index of root counts\n",
    "   index as keys to dict, values a list of size 1->n for that root\n",
    "   ie: {4: [['Amina'],[]]} or {4: [['Amina', 'Amina],[False,True]}\n",
    "   '''\n",
    "   def __init__(self,root_string):\n",
    "      self.root_dict = {}\n",
    "      self.current_root_count = -1 #int for the keys"
   ]
  },
  {
   "cell_type": "code",
   "execution_count": null,
   "metadata": {},
   "outputs": [],
   "source": [
    "# from pydantic import BaseModel\n",
    "# class Fula_Entry (BaseModel): \n",
    "class Dictionary_Entry (): \n",
    "   def __init__(self, entity):\n",
    "      self.entity_word = entity\n",
    "      self.features = {}\n",
    "      self.paragraphs_list = []\n",
    "      self.paragraphs_extr = []\n",
    "      self.sub_roots = []\n",
    "      self.lemmas = []\n",
    "\n",
    "# class docx_Paragraph (BaseModel):\n",
    "class docx_Paragraph ():\n",
    "   def __init__(self, para):\n",
    "      self.para.text\n",
    "      self.para.paragraph_format.first_line_indent\n",
    "      self.para.paragraph_format.left_indent\n",
    "      self.para.runs\n",
    "      self.runs_groups_indexes = []\n",
    "      self.run_text = []\n",
    "      self.run_font_name = []\n",
    "      self.run_font_size_pt = []\n",
    "      self.run_bold = []\n",
    "      self.run_italic = []"
   ]
  },
  {
   "cell_type": "code",
   "execution_count": null,
   "metadata": {},
   "outputs": [],
   "source": []
  }
 ],
 "metadata": {
  "kernelspec": {
   "display_name": "Python 3.10.5 ('.pular_venv': venv)",
   "language": "python",
   "name": "python3"
  },
  "language_info": {
   "name": "python",
   "version": "3.10.5"
  },
  "orig_nbformat": 4,
  "vscode": {
   "interpreter": {
    "hash": "923e031a042b0333d984d7caca79dafbd2f9b4aa22c38d0c8e773771fd0f73dd"
   }
  }
 },
 "nbformat": 4,
 "nbformat_minor": 2
}
