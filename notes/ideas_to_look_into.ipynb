{
 "cells": [
  {
   "cell_type": "code",
   "execution_count": null,
   "metadata": {},
   "outputs": [],
   "source": [
    "class nullsafeOption(pydantic.BaseModel):\n",
    "   toggleList: Union[List[str],Literal[False]]\n",
    "   \n",
    "   class Config:\n",
    "      validate_all = True\n",
    "      extra = 'forbid'\n",
    "      validate_assignment = True\n",
    "      smart_union = True  \n",
    "\n",
    "   @root_validator(pre=True)\n",
    "   def _validate_and_build(cls, value) -> Dict[str, type]:\n",
    "      print(value)\n",
    "      keys = list(value.keys())\n",
    "      assert len(keys) == 1\n",
    "      value = {'toggleList': Union[List[value[keys[0]]],Literal[False]]}\n",
    "\n",
    "      return  value\n",
    "\n",
    "nullsafeOption(toggleList = str)  "
   ]
  }
 ],
 "metadata": {
  "kernelspec": {
   "display_name": "Python 3.7.8 ('.pular_venv': venv)",
   "language": "python",
   "name": "python3"
  },
  "language_info": {
   "name": "python",
   "version": "3.7.8"
  },
  "orig_nbformat": 4,
  "vscode": {
   "interpreter": {
    "hash": "923e031a042b0333d984d7caca79dafbd2f9b4aa22c38d0c8e773771fd0f73dd"
   }
  }
 },
 "nbformat": 4,
 "nbformat_minor": 2
}
