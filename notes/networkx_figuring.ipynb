{
 "cells": [
  {
   "cell_type": "code",
   "execution_count": 2,
   "metadata": {},
   "outputs": [],
   "source": [
    "# ! pip install networkx\n",
    "# ! pip install inspectshow\n",
    "# ! pip install tree-inspector\n",
    "import inspectshow\n",
    "import tree_inspector\n",
    "import inspect\n",
    "import types\n",
    "import docx\n",
    "from docx import Document\n",
    "import networkx as nx\n",
    "import pydantic"
   ]
  },
  {
   "cell_type": "code",
   "execution_count": 4,
   "metadata": {},
   "outputs": [],
   "source": [
    "from typing import Optional, Dict, List, Any, Union, Tuple\n",
    "import pydantic\n",
    "from pydantic import ValidationError, validator, root_validator, Field, constr\n",
    "# from pydantic_docx import Docx_Paragraph_and_Runs, read_docx #type:ignore\n",
    "# from pydantic_docx_processor import create_sized_dataframe, expand_dataframe #type:ignore\n",
    "import re\n",
    "import json\n",
    "from itertools import compress, chain\n",
    "from datetime import datetime\n",
    "import pandas as pd\n",
    "import numpy as np\n",
    "from functools import partial"
   ]
  },
  {
   "cell_type": "code",
   "execution_count": 11,
   "metadata": {},
   "outputs": [
    {
     "name": "stdout",
     "output_type": "stream",
     "text": [
      "[('__class__', <class 'docx.text.paragraph.Paragraph'>), ('__delattr__', <method-wrapper '__delattr__' of Paragraph object at 0x00000233F0E742C8>), ('__dict__', {'_parent': <docx.document._Body object at 0x00000233F0E74288>, '_p': <CT_P '<w:p>' at 0x233eefd9f48>, '_element': <CT_P '<w:p>' at 0x233eefd9f48>}), ('__dir__', <built-in method __dir__ of Paragraph object at 0x00000233F0E742C8>), ('__doc__', '\\n    Proxy object wrapping ``<w:p>`` element.\\n    '), ('__eq__', <method-wrapper '__eq__' of Paragraph object at 0x00000233F0E742C8>), ('__format__', <built-in method __format__ of Paragraph object at 0x00000233F0E742C8>), ('__ge__', <method-wrapper '__ge__' of Paragraph object at 0x00000233F0E742C8>), ('__getattribute__', <method-wrapper '__getattribute__' of Paragraph object at 0x00000233F0E742C8>), ('__gt__', <method-wrapper '__gt__' of Paragraph object at 0x00000233F0E742C8>), ('__hash__', <method-wrapper '__hash__' of Paragraph object at 0x00000233F0E742C8>), ('__init__', <bound method Paragraph.__init__ of <docx.text.paragraph.Paragraph object at 0x00000233F0E742C8>>), ('__init_subclass__', <built-in method __init_subclass__ of type object at 0x00000233ED7E8398>), ('__le__', <method-wrapper '__le__' of Paragraph object at 0x00000233F0E742C8>), ('__lt__', <method-wrapper '__lt__' of Paragraph object at 0x00000233F0E742C8>), ('__module__', 'docx.text.paragraph'), ('__ne__', <method-wrapper '__ne__' of Paragraph object at 0x00000233F0E742C8>), ('__new__', <built-in method __new__ of type object at 0x00007FF80A0A6B30>), ('__reduce__', <built-in method __reduce__ of Paragraph object at 0x00000233F0E742C8>), ('__reduce_ex__', <built-in method __reduce_ex__ of Paragraph object at 0x00000233F0E742C8>), ('__repr__', <method-wrapper '__repr__' of Paragraph object at 0x00000233F0E742C8>), ('__setattr__', <method-wrapper '__setattr__' of Paragraph object at 0x00000233F0E742C8>), ('__sizeof__', <built-in method __sizeof__ of Paragraph object at 0x00000233F0E742C8>), ('__str__', <method-wrapper '__str__' of Paragraph object at 0x00000233F0E742C8>), ('__subclasshook__', <built-in method __subclasshook__ of type object at 0x00000233ED7E8398>), ('__weakref__', None), ('_element', <CT_P '<w:p>' at 0x233eefd9f48>), ('_insert_paragraph_before', <bound method Paragraph._insert_paragraph_before of <docx.text.paragraph.Paragraph object at 0x00000233F0E742C8>>), ('_p', <CT_P '<w:p>' at 0x233eefd9f48>), ('_parent', <docx.document._Body object at 0x00000233F0E74288>), ('add_run', <bound method Paragraph.add_run of <docx.text.paragraph.Paragraph object at 0x00000233F0E742C8>>), ('alignment', None), ('clear', <bound method Paragraph.clear of <docx.text.paragraph.Paragraph object at 0x00000233F0E742C8>>), ('insert_paragraph_before', <bound method Paragraph.insert_paragraph_before of <docx.text.paragraph.Paragraph object at 0x00000233F0E742C8>>), ('paragraph_format', <docx.text.parfmt.ParagraphFormat object at 0x00000233EFE8FF08>), ('part', <docx.parts.document.DocumentPart object at 0x00000233EFE49F48>), ('runs', [<docx.text.run.Run object at 0x00000233EFE8FFC8>, <docx.text.run.Run object at 0x00000233EFE8F848>, <docx.text.run.Run object at 0x00000233EFE8F9C8>, <docx.text.run.Run object at 0x00000233EFE8FBC8>, <docx.text.run.Run object at 0x00000233EFE8F408>]), ('style', _ParagraphStyle('Normal') id: 2422091611848), ('text', 'a  prn,sbj,sf  DFZH  Z<->')]\n",
      "['alignment', 'paragraph_format', 'part', 'runs', 'style', 'text']\n",
      "[('__class__', <class 'docx.text.paragraph.Paragraph'>), ('__delattr__', <method-wrapper '__delattr__' of Paragraph object at 0x00000233F0E743C8>), ('__dict__', {'_parent': <docx.document._Body object at 0x00000233F0E74288>, '_p': <CT_P '<w:p>' at 0x233eefd9e58>, '_element': <CT_P '<w:p>' at 0x233eefd9e58>}), ('__dir__', <built-in method __dir__ of Paragraph object at 0x00000233F0E743C8>), ('__doc__', '\\n    Proxy object wrapping ``<w:p>`` element.\\n    '), ('__eq__', <method-wrapper '__eq__' of Paragraph object at 0x00000233F0E743C8>), ('__format__', <built-in method __format__ of Paragraph object at 0x00000233F0E743C8>), ('__ge__', <method-wrapper '__ge__' of Paragraph object at 0x00000233F0E743C8>), ('__getattribute__', <method-wrapper '__getattribute__' of Paragraph object at 0x00000233F0E743C8>), ('__gt__', <method-wrapper '__gt__' of Paragraph object at 0x00000233F0E743C8>), ('__hash__', <method-wrapper '__hash__' of Paragraph object at 0x00000233F0E743C8>), ('__init__', <bound method Paragraph.__init__ of <docx.text.paragraph.Paragraph object at 0x00000233F0E743C8>>), ('__init_subclass__', <built-in method __init_subclass__ of type object at 0x00000233ED7E8398>), ('__le__', <method-wrapper '__le__' of Paragraph object at 0x00000233F0E743C8>), ('__lt__', <method-wrapper '__lt__' of Paragraph object at 0x00000233F0E743C8>), ('__module__', 'docx.text.paragraph'), ('__ne__', <method-wrapper '__ne__' of Paragraph object at 0x00000233F0E743C8>), ('__new__', <built-in method __new__ of type object at 0x00007FF80A0A6B30>), ('__reduce__', <built-in method __reduce__ of Paragraph object at 0x00000233F0E743C8>), ('__reduce_ex__', <built-in method __reduce_ex__ of Paragraph object at 0x00000233F0E743C8>), ('__repr__', <method-wrapper '__repr__' of Paragraph object at 0x00000233F0E743C8>), ('__setattr__', <method-wrapper '__setattr__' of Paragraph object at 0x00000233F0E743C8>), ('__sizeof__', <built-in method __sizeof__ of Paragraph object at 0x00000233F0E743C8>), ('__str__', <method-wrapper '__str__' of Paragraph object at 0x00000233F0E743C8>), ('__subclasshook__', <built-in method __subclasshook__ of type object at 0x00000233ED7E8398>), ('__weakref__', None), ('_element', <CT_P '<w:p>' at 0x233eefd9e58>), ('_insert_paragraph_before', <bound method Paragraph._insert_paragraph_before of <docx.text.paragraph.Paragraph object at 0x00000233F0E743C8>>), ('_p', <CT_P '<w:p>' at 0x233eefd9e58>), ('_parent', <docx.document._Body object at 0x00000233F0E74288>), ('add_run', <bound method Paragraph.add_run of <docx.text.paragraph.Paragraph object at 0x00000233F0E743C8>>), ('alignment', None), ('clear', <bound method Paragraph.clear of <docx.text.paragraph.Paragraph object at 0x00000233F0E743C8>>), ('insert_paragraph_before', <bound method Paragraph.insert_paragraph_before of <docx.text.paragraph.Paragraph object at 0x00000233F0E743C8>>), ('paragraph_format', <docx.text.parfmt.ParagraphFormat object at 0x00000233EFE9CD08>), ('part', <docx.parts.document.DocumentPart object at 0x00000233EFE49F48>), ('runs', [<docx.text.run.Run object at 0x00000233EFE9C348>]), ('style', _ParagraphStyle('Normal') id: 2422108262280), ('text', 'you (sg.)')]\n",
      "['alignment', 'paragraph_format', 'part', 'runs', 'style', 'text']\n",
      "[('__class__', <class 'docx.text.paragraph.Paragraph'>), ('__delattr__', <method-wrapper '__delattr__' of Paragraph object at 0x00000233F0E74488>), ('__dict__', {'_parent': <docx.document._Body object at 0x00000233F0E74288>, '_p': <CT_P '<w:p>' at 0x233df6510e8>, '_element': <CT_P '<w:p>' at 0x233df6510e8>}), ('__dir__', <built-in method __dir__ of Paragraph object at 0x00000233F0E74488>), ('__doc__', '\\n    Proxy object wrapping ``<w:p>`` element.\\n    '), ('__eq__', <method-wrapper '__eq__' of Paragraph object at 0x00000233F0E74488>), ('__format__', <built-in method __format__ of Paragraph object at 0x00000233F0E74488>), ('__ge__', <method-wrapper '__ge__' of Paragraph object at 0x00000233F0E74488>), ('__getattribute__', <method-wrapper '__getattribute__' of Paragraph object at 0x00000233F0E74488>), ('__gt__', <method-wrapper '__gt__' of Paragraph object at 0x00000233F0E74488>), ('__hash__', <method-wrapper '__hash__' of Paragraph object at 0x00000233F0E74488>), ('__init__', <bound method Paragraph.__init__ of <docx.text.paragraph.Paragraph object at 0x00000233F0E74488>>), ('__init_subclass__', <built-in method __init_subclass__ of type object at 0x00000233ED7E8398>), ('__le__', <method-wrapper '__le__' of Paragraph object at 0x00000233F0E74488>), ('__lt__', <method-wrapper '__lt__' of Paragraph object at 0x00000233F0E74488>), ('__module__', 'docx.text.paragraph'), ('__ne__', <method-wrapper '__ne__' of Paragraph object at 0x00000233F0E74488>), ('__new__', <built-in method __new__ of type object at 0x00007FF80A0A6B30>), ('__reduce__', <built-in method __reduce__ of Paragraph object at 0x00000233F0E74488>), ('__reduce_ex__', <built-in method __reduce_ex__ of Paragraph object at 0x00000233F0E74488>), ('__repr__', <method-wrapper '__repr__' of Paragraph object at 0x00000233F0E74488>), ('__setattr__', <method-wrapper '__setattr__' of Paragraph object at 0x00000233F0E74488>), ('__sizeof__', <built-in method __sizeof__ of Paragraph object at 0x00000233F0E74488>), ('__str__', <method-wrapper '__str__' of Paragraph object at 0x00000233F0E74488>), ('__subclasshook__', <built-in method __subclasshook__ of type object at 0x00000233ED7E8398>), ('__weakref__', None), ('_element', <CT_P '<w:p>' at 0x233df6510e8>), ('_insert_paragraph_before', <bound method Paragraph._insert_paragraph_before of <docx.text.paragraph.Paragraph object at 0x00000233F0E74488>>), ('_p', <CT_P '<w:p>' at 0x233df6510e8>), ('_parent', <docx.document._Body object at 0x00000233F0E74288>), ('add_run', <bound method Paragraph.add_run of <docx.text.paragraph.Paragraph object at 0x00000233F0E74488>>), ('alignment', None), ('clear', <bound method Paragraph.clear of <docx.text.paragraph.Paragraph object at 0x00000233F0E74488>>), ('insert_paragraph_before', <bound method Paragraph.insert_paragraph_before of <docx.text.paragraph.Paragraph object at 0x00000233F0E74488>>), ('paragraph_format', <docx.text.parfmt.ParagraphFormat object at 0x00000233EFE8FFC8>), ('part', <docx.parts.document.DocumentPart object at 0x00000233EFE49F48>), ('runs', [<docx.text.run.Run object at 0x00000233EFE8F848>]), ('style', _ParagraphStyle('Normal') id: 2422091610568), ('text', 'tu')]\n",
      "['alignment', 'paragraph_format', 'part', 'runs', 'style', 'text']\n"
     ]
    }
   ],
   "source": [
    "docx_filename = \"pasted_docx page 1.docx\"\n",
    "\n",
    "document = Document(docx_filename)\n",
    "\n",
    "\n",
    "# def isdataclass(obj):\n",
    "#    return type(obj)==type\n",
    "for p in document.paragraphs[4:7]:\n",
    "   methods = inspect.getmembers(p,inspect.ismethod)\n",
    "   # methods = []\n",
    "   # funcs = inspect.getmembers(p,inspect.isfunction)\n",
    "   # classes = inspect.getmembers(p,inspect.isclass)\n",
    "   # modules = inspect.getmembers(p,inspect.ismodule)\n",
    "   # dataclasses = inspect.getmembers(p,isdataclass)\n",
    "   # print(dataclasses)\n",
    "   # builin = inspect.getmembers(p,inspect.isbuiltin)\n",
    "   # builtin = ['']\n",
    "   all_mems = inspect.getmembers(p)\n",
    "   # print(all_mems)\n",
    "   # print(len(i))\n",
    "   # print(i[5:10])\n",
    "   # print(type(i[1][1]))\n",
    "   # names = [m[0] for m in i]\n",
    "   # print(names)\n",
    "   # print(i)\n",
    "   # break\n",
    "   dct = {'methods':methods,'all_mems':all_mems}\n",
    "   # names = {k:[m[0] for m in v] for k,v in dct.items()}\n",
    "   # dct['all_mems'] = [m for m in dct['all_mems'] if not any([m in dct['methods'],m in dct['funcs'],m in dct['classes']]) ]\n",
    "   # for k,v in dct.items():\n",
    "   # names = {k:[m[0] for m in v] for k,v in dct.items()}\n",
    "   # # print(names)\n",
    "   dirs = {k:v for k,v in all_mems if  not k.startswith('_') and (k,v) not in methods}\n",
    "   # dirs = {k:v for k,v in all_mems if  not k.startswith('__')}\n",
    "   # print(all_mems)\n",
    "   #  and isinstance(v,object)\n",
    "   # print(dirs)\n",
    "   object_names = [k for k,v in dirs.items()]\n",
    "   print(object_names)\n",
    "   # print(dct['all_mems'])\n",
    "   # print(type(dirs['add_run']))\n",
    "   # print(dir(dirs['_p']))\n",
    "   # print(classes)\n",
    "   # print(dirs['part'])"
   ]
  },
  {
   "cell_type": "code",
   "execution_count": 91,
   "metadata": {},
   "outputs": [
    {
     "name": "stdout",
     "output_type": "stream",
     "text": [
      "['alignment', 'paragraph_format', 'part', 'runs', 'style', 'text', 'paragraph']\n",
      "['alignment', 'paragraph_format', 'part', 'runs', 'style', 'text', 'paragraph', 'element', 'first_line_indent', 'keep_together', 'keep_with_next', 'left_indent', 'line_spacing', 'line_spacing_rule', 'page_break_before', 'right_indent', 'space_after', 'space_before', 'tab_stops', 'widow_control', 'bold', 'font', 'italic', 'underline', 'base_style', 'builtin', 'hidden', 'locked', 'name', 'next_paragraph_style', 'priority', 'quick_style', 'style_id', 'type', 'unhide_when_used']\n"
     ]
    },
    {
     "data": {
      "text/plain": [
       "[[('paragraph_format', <docx.text.parfmt.ParagraphFormat at 0x23380354b48>),\n",
       "  ('part', <docx.parts.document.DocumentPart at 0x233efe49f48>),\n",
       "  ('runs', <docx.text.run.Run at 0x23380354bc8>),\n",
       "  ('style', _ParagraphStyle('Normal') id: 2420217563208)],\n",
       " [('paragraph_format', <docx.text.parfmt.ParagraphFormat at 0x23380354b48>),\n",
       "  ('part', <docx.parts.document.DocumentPart at 0x233efe49f48>),\n",
       "  ('runs', <docx.text.run.Run at 0x23380354bc8>),\n",
       "  ('style', _ParagraphStyle('Normal') id: 2420217563208)],\n",
       " [('paragraph_format', <docx.text.parfmt.ParagraphFormat at 0x23380354b48>),\n",
       "  ('part', <docx.parts.document.DocumentPart at 0x233efe49f48>),\n",
       "  ('runs', <docx.text.run.Run at 0x23380354bc8>),\n",
       "  ('style', _ParagraphStyle('Normal') id: 2420217563208)],\n",
       " [('paragraph_format', <docx.text.parfmt.ParagraphFormat at 0x23380354b48>),\n",
       "  ('part', <docx.parts.document.DocumentPart at 0x233efe49f48>),\n",
       "  ('runs', <docx.text.run.Run at 0x23380354bc8>),\n",
       "  ('style', _ParagraphStyle('Normal') id: 2420217563208)]]"
      ]
     },
     "execution_count": 91,
     "metadata": {},
     "output_type": "execute_result"
    }
   ],
   "source": [
    "def get_public_attributes(obj):\n",
    "   methods = inspect.getmembers(obj,inspect.ismethod)\n",
    "   atts = [(k,v) for k,v in inspect.getmembers(obj) if  not k.startswith('_') and (k,v) not in methods]\n",
    "   return atts\n",
    "\n",
    "atts = get_public_attributes(document.paragraphs[4])\n",
    "get_public_attributes(atts[3][1][0])\n",
    "\n",
    "# from networkx.classes.graph import Graph\n",
    "import builtins\n",
    "buildintypes = [eval(b) for b in dir(builtins)]\n",
    "# def create_graph(obj,name:str):\n",
    "#    G=nx.DiGraph()\n",
    "#    # print(type(G))\n",
    "#    G.add_node(name,object = obj)\n",
    "#    atts = get_public_attributes(obj)\n",
    "#    G = branch_nodes(name,atts,G)\n",
    "\n",
    "def branch_nodes(parent_name:str,obj,graph):\n",
    "   names = []\n",
    "   edges = []\n",
    "   try:\n",
    "      atts = get_public_attributes(obj)\n",
    "   except:\n",
    "      return graph,[]\n",
    "   _ = [(names.append((n,{'name':n})),edges.append((parent_name,n))) for n,o in atts if n is not None]\n",
    "   del _\n",
    "   graph.add_nodes_from(names)\n",
    "   graph.add_edges_from(edges)\n",
    "   new_attr = []\n",
    "   for n,o in atts:\n",
    "      # print(n,o)\n",
    "      if isinstance(o,list):\n",
    "         try:\n",
    "            o=o[0]\n",
    "         except:\n",
    "            continue\n",
    "      if type(o) not in buildintypes and o is not None:\n",
    "         new_attr.append((n,o))\n",
    "         # print(type(o))\n",
    "\n",
    "   return graph,new_attr\n",
    "\n",
    "# def handle_objects():\n",
    "\n",
    "\n",
    "run0 = get_public_attributes(atts[3][1][0])\n",
    "repr(run0[1][1])\n",
    "# run0\n",
    "atts = get_public_attributes(document.paragraphs[4])\n",
    "new_attr = []\n",
    "for n,o in atts:\n",
    "   # print(n,o)\n",
    "   if isinstance(o,list):\n",
    "      try:\n",
    "         o=o[0]\n",
    "      except:\n",
    "         continue\n",
    "   if type(o) not in buildintypes and o is not None:\n",
    "      new_attr.append((n,o))\n",
    "atts = new_attr.copy()\n",
    "# get_public_attributes(atts[3][1][0])\n",
    "G=nx.DiGraph()\n",
    "# print(type(G))\n",
    "\n",
    "G,new_attr = branch_nodes('paragraph',document.paragraphs[4],G)\n",
    "# for n,o in \n",
    "# atts\n",
    "all_new_attrs = []\n",
    "print(G.nodes())\n",
    "for n,o in new_attr:\n",
    "   G,this_new_attr = branch_nodes(n,o,G)\n",
    "   all_new_attrs.append(new_attr)\n",
    "print(G.nodes())\n",
    "all_new_attrs\n"
   ]
  },
  {
   "cell_type": "code",
   "execution_count": 70,
   "metadata": {},
   "outputs": [
    {
     "name": "stdout",
     "output_type": "stream",
     "text": [
      "Collecting scipy\n",
      "  Using cached scipy-1.7.3-cp37-cp37m-win_amd64.whl (34.1 MB)\n",
      "Requirement already satisfied: numpy<1.23.0,>=1.16.5 in c:\\users\\peter\\vsc-workspace_pular\\.pular_venv\\lib\\site-packages (from scipy) (1.21.6)\n",
      "Installing collected packages: scipy\n",
      "Successfully installed scipy-1.7.3\n"
     ]
    }
   ],
   "source": [
    "# ! pip install nx_altair\n",
    "! pip install scipy\n",
    "# import pandas as pd\n",
    "import json\n",
    "# import networkx as nx\n",
    "import nx_altair as nxa\n",
    "\n"
   ]
  },
  {
   "cell_type": "code",
   "execution_count": 92,
   "metadata": {},
   "outputs": [
    {
     "name": "stdout",
     "output_type": "stream",
     "text": [
      "[('alignment', {'name': 'alignment'}), ('paragraph_format', {'name': 'paragraph_format'}), ('part', {'name': 'part'}), ('runs', {'name': 'runs'}), ('style', {'name': 'style'}), ('text', {'name': 'text'}), ('paragraph', {}), ('element', {'name': 'element'}), ('first_line_indent', {'name': 'first_line_indent'}), ('keep_together', {'name': 'keep_together'}), ('keep_with_next', {'name': 'keep_with_next'}), ('left_indent', {'name': 'left_indent'}), ('line_spacing', {'name': 'line_spacing'}), ('line_spacing_rule', {'name': 'line_spacing_rule'}), ('page_break_before', {'name': 'page_break_before'}), ('right_indent', {'name': 'right_indent'}), ('space_after', {'name': 'space_after'}), ('space_before', {'name': 'space_before'}), ('tab_stops', {'name': 'tab_stops'}), ('widow_control', {'name': 'widow_control'}), ('bold', {'name': 'bold'}), ('font', {'name': 'font'}), ('italic', {'name': 'italic'}), ('underline', {'name': 'underline'}), ('base_style', {'name': 'base_style'}), ('builtin', {'name': 'builtin'}), ('hidden', {'name': 'hidden'}), ('locked', {'name': 'locked'}), ('name', {'name': 'name'}), ('next_paragraph_style', {'name': 'next_paragraph_style'}), ('priority', {'name': 'priority'}), ('quick_style', {'name': 'quick_style'}), ('style_id', {'name': 'style_id'}), ('type', {'name': 'type'}), ('unhide_when_used', {'name': 'unhide_when_used'})]\n"
     ]
    }
   ],
   "source": [
    "newpos = nx.kamada_kawai_layout(G)\n",
    "k = 1/3\n",
    "all_pos = [newpos]\n",
    "\n",
    "# for i in range(1,16,2):\n",
    "# for i in [7,8,9,10]:\n",
    "for i in [8]:\n",
    "    all_pos.append(nx.spring_layout(G,k=k,iterations = i, pos = newpos))\n",
    "# newpos = nx.kamada_kawai_layout(G)\n",
    "newpos = nx.spring_layout(G,k=k,iterations = 20)\n",
    "# to generate a good visualization (you shouldn't need to modify the line below)\n",
    "\n",
    "nxa.draw_networkx(G, pos = newpos).properties(\n",
    "    # nx-altair returns an Altair visualization, so we can modify\n",
    "    # the properties as usual\n",
    "    width=500,\n",
    "    height=500\n",
    ")\n",
    "print(G.nodes(data=True))"
   ]
  },
  {
   "cell_type": "code",
   "execution_count": 99,
   "metadata": {},
   "outputs": [
    {
     "data": {
      "text/html": [
       "\n",
       "<div id=\"altair-viz-dcad9e9fc4654ca5b5220d758ccb292e\"></div>\n",
       "<script type=\"text/javascript\">\n",
       "  var VEGA_DEBUG = (typeof VEGA_DEBUG == \"undefined\") ? {} : VEGA_DEBUG;\n",
       "  (function(spec, embedOpt){\n",
       "    let outputDiv = document.currentScript.previousElementSibling;\n",
       "    if (outputDiv.id !== \"altair-viz-dcad9e9fc4654ca5b5220d758ccb292e\") {\n",
       "      outputDiv = document.getElementById(\"altair-viz-dcad9e9fc4654ca5b5220d758ccb292e\");\n",
       "    }\n",
       "    const paths = {\n",
       "      \"vega\": \"https://cdn.jsdelivr.net/npm//vega@5?noext\",\n",
       "      \"vega-lib\": \"https://cdn.jsdelivr.net/npm//vega-lib?noext\",\n",
       "      \"vega-lite\": \"https://cdn.jsdelivr.net/npm//vega-lite@4.17.0?noext\",\n",
       "      \"vega-embed\": \"https://cdn.jsdelivr.net/npm//vega-embed@6?noext\",\n",
       "    };\n",
       "\n",
       "    function maybeLoadScript(lib, version) {\n",
       "      var key = `${lib.replace(\"-\", \"\")}_version`;\n",
       "      return (VEGA_DEBUG[key] == version) ?\n",
       "        Promise.resolve(paths[lib]) :\n",
       "        new Promise(function(resolve, reject) {\n",
       "          var s = document.createElement('script');\n",
       "          document.getElementsByTagName(\"head\")[0].appendChild(s);\n",
       "          s.async = true;\n",
       "          s.onload = () => {\n",
       "            VEGA_DEBUG[key] = version;\n",
       "            return resolve(paths[lib]);\n",
       "          };\n",
       "          s.onerror = () => reject(`Error loading script: ${paths[lib]}`);\n",
       "          s.src = paths[lib];\n",
       "        });\n",
       "    }\n",
       "\n",
       "    function showError(err) {\n",
       "      outputDiv.innerHTML = `<div class=\"error\" style=\"color:red;\">${err}</div>`;\n",
       "      throw err;\n",
       "    }\n",
       "\n",
       "    function displayChart(vegaEmbed) {\n",
       "      vegaEmbed(outputDiv, spec, embedOpt)\n",
       "        .catch(err => showError(`Javascript Error: ${err.message}<br>This usually means there's a typo in your chart specification. See the javascript console for the full traceback.`));\n",
       "    }\n",
       "\n",
       "    if(typeof define === \"function\" && define.amd) {\n",
       "      requirejs.config({paths});\n",
       "      require([\"vega-embed\"], displayChart, err => showError(`Error loading script: ${err.message}`));\n",
       "    } else {\n",
       "      maybeLoadScript(\"vega\", \"5\")\n",
       "        .then(() => maybeLoadScript(\"vega-lite\", \"4.17.0\"))\n",
       "        .then(() => maybeLoadScript(\"vega-embed\", \"6\"))\n",
       "        .catch(showError)\n",
       "        .then(() => displayChart(vegaEmbed));\n",
       "    }\n",
       "  })({\"config\": {\"view\": {\"continuousWidth\": 400, \"continuousHeight\": 300}}, \"layer\": [{\"data\": {\"name\": \"data-d81f7ad9b4efbee7978ceaa34ad9bb7d\"}, \"mark\": {\"type\": \"line\", \"color\": \"gray\", \"strokeOpacity\": 0.5, \"strokeWidth\": 0.7}, \"encoding\": {\"detail\": {\"field\": \"edge\", \"type\": \"quantitative\"}, \"x\": {\"axis\": {\"grid\": false, \"labels\": false, \"ticks\": false, \"title\": \"\"}, \"field\": \"x\", \"type\": \"quantitative\"}, \"y\": {\"axis\": {\"grid\": false, \"labels\": false, \"ticks\": false, \"title\": \"\"}, \"field\": \"y\", \"type\": \"quantitative\"}}}, {\"data\": {\"name\": \"data-4f0b7ab9705b842c62b3de0dd575794f\"}, \"mark\": {\"type\": \"text\", \"align\": \"center\", \"baseline\": \"middle\"}, \"encoding\": {\"opacity\": {\"value\": 0.75}, \"size\": {\"value\": 15}, \"text\": {\"field\": \"name\", \"type\": \"nominal\"}, \"tooltip\": [{\"field\": \"name\", \"type\": \"nominal\"}], \"x\": {\"axis\": {\"grid\": false, \"labels\": false, \"ticks\": false}, \"field\": \"x\", \"type\": \"quantitative\"}, \"y\": {\"axis\": {\"grid\": false, \"labels\": false, \"ticks\": false}, \"field\": \"y\", \"type\": \"quantitative\"}}}], \"height\": 500, \"width\": 500, \"$schema\": \"https://vega.github.io/schema/vega-lite/v4.17.0.json\", \"datasets\": {\"data-d81f7ad9b4efbee7978ceaa34ad9bb7d\": [{\"edge\": 0, \"target\": \"alignment\", \"y\": -0.08933137429652165, \"x\": 0.14359288817759067, \"source\": \"paragraph_format\", \"pair\": [\"paragraph_format\", \"alignment\"]}, {\"edge\": 0, \"target\": \"alignment\", \"y\": -0.860732534146273, \"x\": 0.41927399453488917, \"source\": \"paragraph_format\", \"pair\": [\"paragraph_format\", \"alignment\"]}, {\"edge\": 1, \"target\": \"element\", \"y\": -0.08933137429652165, \"x\": 0.14359288817759067, \"source\": \"paragraph_format\", \"pair\": [\"paragraph_format\", \"element\"]}, {\"edge\": 1, \"target\": \"element\", \"y\": 0.16436841697720356, \"x\": 0.8414298207907995, \"source\": \"paragraph_format\", \"pair\": [\"paragraph_format\", \"element\"]}, {\"edge\": 2, \"target\": \"first_line_indent\", \"y\": -0.08933137429652165, \"x\": 0.14359288817759067, \"source\": \"paragraph_format\", \"pair\": [\"paragraph_format\", \"first_line_indent\"]}, {\"edge\": 2, \"target\": \"first_line_indent\", \"y\": -0.17281657093108316, \"x\": -0.9787412218479915, \"source\": \"paragraph_format\", \"pair\": [\"paragraph_format\", \"first_line_indent\"]}, {\"edge\": 3, \"target\": \"keep_together\", \"y\": -0.08933137429652165, \"x\": 0.14359288817759067, \"source\": \"paragraph_format\", \"pair\": [\"paragraph_format\", \"keep_together\"]}, {\"edge\": 3, \"target\": \"keep_together\", \"y\": -0.5766613060681977, \"x\": 0.5155530786372826, \"source\": \"paragraph_format\", \"pair\": [\"paragraph_format\", \"keep_together\"]}, {\"edge\": 4, \"target\": \"keep_with_next\", \"y\": -0.08933137429652165, \"x\": 0.14359288817759067, \"source\": \"paragraph_format\", \"pair\": [\"paragraph_format\", \"keep_with_next\"]}, {\"edge\": 4, \"target\": \"keep_with_next\", \"y\": 0.7856892047049392, \"x\": 0.6229211025040413, \"source\": \"paragraph_format\", \"pair\": [\"paragraph_format\", \"keep_with_next\"]}, {\"edge\": 5, \"target\": \"left_indent\", \"y\": -0.08933137429652165, \"x\": 0.14359288817759067, \"source\": \"paragraph_format\", \"pair\": [\"paragraph_format\", \"left_indent\"]}, {\"edge\": 5, \"target\": \"left_indent\", \"y\": -0.6764320017484695, \"x\": 0.824722201986629, \"source\": \"paragraph_format\", \"pair\": [\"paragraph_format\", \"left_indent\"]}, {\"edge\": 6, \"target\": \"line_spacing\", \"y\": -0.08933137429652165, \"x\": 0.14359288817759067, \"source\": \"paragraph_format\", \"pair\": [\"paragraph_format\", \"line_spacing\"]}, {\"edge\": 6, \"target\": \"line_spacing\", \"y\": 0.784512839922869, \"x\": -0.4459391746606604, \"source\": \"paragraph_format\", \"pair\": [\"paragraph_format\", \"line_spacing\"]}, {\"edge\": 7, \"target\": \"line_spacing_rule\", \"y\": -0.08933137429652165, \"x\": 0.14359288817759067, \"source\": \"paragraph_format\", \"pair\": [\"paragraph_format\", \"line_spacing_rule\"]}, {\"edge\": 7, \"target\": \"line_spacing_rule\", \"y\": -0.42401071996859874, \"x\": 0.9292569846644781, \"source\": \"paragraph_format\", \"pair\": [\"paragraph_format\", \"line_spacing_rule\"]}, {\"edge\": 8, \"target\": \"page_break_before\", \"y\": -0.08933137429652165, \"x\": 0.14359288817759067, \"source\": \"paragraph_format\", \"pair\": [\"paragraph_format\", \"page_break_before\"]}, {\"edge\": 8, \"target\": \"page_break_before\", \"y\": -0.8946203241021952, \"x\": 0.6334958847394001, \"source\": \"paragraph_format\", \"pair\": [\"paragraph_format\", \"page_break_before\"]}, {\"edge\": 9, \"target\": \"right_indent\", \"y\": -0.08933137429652165, \"x\": 0.14359288817759067, \"source\": \"paragraph_format\", \"pair\": [\"paragraph_format\", \"right_indent\"]}, {\"edge\": 9, \"target\": \"right_indent\", \"y\": 0.8340734722805123, \"x\": 0.3948632867156017, \"source\": \"paragraph_format\", \"pair\": [\"paragraph_format\", \"right_indent\"]}, {\"edge\": 10, \"target\": \"space_after\", \"y\": -0.08933137429652165, \"x\": 0.14359288817759067, \"source\": \"paragraph_format\", \"pair\": [\"paragraph_format\", \"space_after\"]}, {\"edge\": 10, \"target\": \"space_after\", \"y\": 0.4000071751855765, \"x\": -0.921404660431292, \"source\": \"paragraph_format\", \"pair\": [\"paragraph_format\", \"space_after\"]}, {\"edge\": 11, \"target\": \"space_before\", \"y\": -0.08933137429652165, \"x\": 0.14359288817759067, \"source\": \"paragraph_format\", \"pair\": [\"paragraph_format\", \"space_before\"]}, {\"edge\": 11, \"target\": \"space_before\", \"y\": -0.9345594422055347, \"x\": 0.19497922639343482, \"source\": \"paragraph_format\", \"pair\": [\"paragraph_format\", \"space_before\"]}, {\"edge\": 12, \"target\": \"tab_stops\", \"y\": -0.08933137429652165, \"x\": 0.14359288817759067, \"source\": \"paragraph_format\", \"pair\": [\"paragraph_format\", \"tab_stops\"]}, {\"edge\": 12, \"target\": \"tab_stops\", \"y\": 0.7136547390699646, \"x\": 0.06651941913943882, \"source\": \"paragraph_format\", \"pair\": [\"paragraph_format\", \"tab_stops\"]}, {\"edge\": 13, \"target\": \"widow_control\", \"y\": -0.08933137429652165, \"x\": 0.14359288817759067, \"source\": \"paragraph_format\", \"pair\": [\"paragraph_format\", \"widow_control\"]}, {\"edge\": 13, \"target\": \"widow_control\", \"y\": -0.9416858018516834, \"x\": -0.20195298446431753, \"source\": \"paragraph_format\", \"pair\": [\"paragraph_format\", \"widow_control\"]}, {\"edge\": 14, \"target\": \"bold\", \"y\": 0.17598135363611841, \"x\": -0.0060947422452651175, \"source\": \"runs\", \"pair\": [\"runs\", \"bold\"]}, {\"edge\": 14, \"target\": \"bold\", \"y\": -0.0828214619377769, \"x\": 1.0, \"source\": \"runs\", \"pair\": [\"runs\", \"bold\"]}, {\"edge\": 15, \"target\": \"element\", \"y\": 0.17598135363611841, \"x\": -0.0060947422452651175, \"source\": \"runs\", \"pair\": [\"runs\", \"element\"]}, {\"edge\": 15, \"target\": \"element\", \"y\": 0.16436841697720356, \"x\": 0.8414298207907995, \"source\": \"runs\", \"pair\": [\"runs\", \"element\"]}, {\"edge\": 16, \"target\": \"font\", \"y\": 0.17598135363611841, \"x\": -0.0060947422452651175, \"source\": \"runs\", \"pair\": [\"runs\", \"font\"]}, {\"edge\": 16, \"target\": \"font\", \"y\": -0.5506147379329163, \"x\": -0.4952554962274113, \"source\": \"runs\", \"pair\": [\"runs\", \"font\"]}, {\"edge\": 17, \"target\": \"italic\", \"y\": 0.17598135363611841, \"x\": -0.0060947422452651175, \"source\": \"runs\", \"pair\": [\"runs\", \"italic\"]}, {\"edge\": 17, \"target\": \"italic\", \"y\": 0.34063038978391835, \"x\": -0.749346467022648, \"source\": \"runs\", \"pair\": [\"runs\", \"italic\"]}, {\"edge\": 18, \"target\": \"part\", \"y\": 0.17598135363611841, \"x\": -0.0060947422452651175, \"source\": \"runs\", \"pair\": [\"runs\", \"part\"]}, {\"edge\": 18, \"target\": \"part\", \"y\": 0.5519084072957351, \"x\": 0.8475382203755029, \"source\": \"runs\", \"pair\": [\"runs\", \"part\"]}, {\"edge\": 19, \"target\": \"style\", \"y\": 0.17598135363611841, \"x\": -0.0060947422452651175, \"source\": \"runs\", \"pair\": [\"runs\", \"style\"]}, {\"edge\": 19, \"target\": \"style\", \"y\": 0.011351542174484504, \"x\": -0.09497054053975486, \"source\": \"runs\", \"pair\": [\"runs\", \"style\"]}, {\"edge\": 20, \"target\": \"text\", \"y\": 0.17598135363611841, \"x\": -0.0060947422452651175, \"source\": \"runs\", \"pair\": [\"runs\", \"text\"]}, {\"edge\": 20, \"target\": \"text\", \"y\": 0.681909061943749, \"x\": -0.7716889441025861, \"source\": \"runs\", \"pair\": [\"runs\", \"text\"]}, {\"edge\": 21, \"target\": \"underline\", \"y\": 0.17598135363611841, \"x\": -0.0060947422452651175, \"source\": \"runs\", \"pair\": [\"runs\", \"underline\"]}, {\"edge\": 21, \"target\": \"underline\", \"y\": 0.08808291917044908, \"x\": -0.9154341399977092, \"source\": \"runs\", \"pair\": [\"runs\", \"underline\"]}, {\"edge\": 22, \"target\": \"base_style\", \"y\": 0.011351542174484504, \"x\": -0.09497054053975486, \"source\": \"style\", \"pair\": [\"style\", \"base_style\"]}, {\"edge\": 22, \"target\": \"base_style\", \"y\": 0.9146678132573675, \"x\": -0.2405040664651614, \"source\": \"style\", \"pair\": [\"style\", \"base_style\"]}, {\"edge\": 23, \"target\": \"builtin\", \"y\": 0.011351542174484504, \"x\": -0.09497054053975486, \"source\": \"style\", \"pair\": [\"style\", \"builtin\"]}, {\"edge\": 23, \"target\": \"builtin\", \"y\": -0.8988895554468513, \"x\": -0.45113887509284345, \"source\": \"style\", \"pair\": [\"style\", \"builtin\"]}, {\"edge\": 24, \"target\": \"element\", \"y\": 0.011351542174484504, \"x\": -0.09497054053975486, \"source\": \"style\", \"pair\": [\"style\", \"element\"]}, {\"edge\": 24, \"target\": \"element\", \"y\": 0.16436841697720356, \"x\": 0.8414298207907995, \"source\": \"style\", \"pair\": [\"style\", \"element\"]}, {\"edge\": 25, \"target\": \"font\", \"y\": 0.011351542174484504, \"x\": -0.09497054053975486, \"source\": \"style\", \"pair\": [\"style\", \"font\"]}, {\"edge\": 25, \"target\": \"font\", \"y\": -0.5506147379329163, \"x\": -0.4952554962274113, \"source\": \"style\", \"pair\": [\"style\", \"font\"]}, {\"edge\": 26, \"target\": \"hidden\", \"y\": 0.011351542174484504, \"x\": -0.09497054053975486, \"source\": \"style\", \"pair\": [\"style\", \"hidden\"]}, {\"edge\": 26, \"target\": \"hidden\", \"y\": -0.141184427791451, \"x\": -0.780191323584647, \"source\": \"style\", \"pair\": [\"style\", \"hidden\"]}, {\"edge\": 27, \"target\": \"locked\", \"y\": 0.011351542174484504, \"x\": -0.09497054053975486, \"source\": \"style\", \"pair\": [\"style\", \"locked\"]}, {\"edge\": 27, \"target\": \"locked\", \"y\": 0.8848198805677696, \"x\": -0.05066058330996057, \"source\": \"style\", \"pair\": [\"style\", \"locked\"]}, {\"edge\": 28, \"target\": \"name\", \"y\": 0.011351542174484504, \"x\": -0.09497054053975486, \"source\": \"style\", \"pair\": [\"style\", \"name\"]}, {\"edge\": 28, \"target\": \"name\", \"y\": 0.9265373284394496, \"x\": 0.1695673842457122, \"source\": \"style\", \"pair\": [\"style\", \"name\"]}, {\"edge\": 29, \"target\": \"next_paragraph_style\", \"y\": 0.011351542174484504, \"x\": -0.09497054053975486, \"source\": \"style\", \"pair\": [\"style\", \"next_paragraph_style\"]}, {\"edge\": 29, \"target\": \"next_paragraph_style\", \"y\": -0.22705812150000487, \"x\": 0.8302041522879451, \"source\": \"style\", \"pair\": [\"style\", \"next_paragraph_style\"]}, {\"edge\": 30, \"target\": \"paragraph_format\", \"y\": 0.011351542174484504, \"x\": -0.09497054053975486, \"source\": \"style\", \"pair\": [\"style\", \"paragraph_format\"]}, {\"edge\": 30, \"target\": \"paragraph_format\", \"y\": -0.08933137429652165, \"x\": 0.14359288817759067, \"source\": \"style\", \"pair\": [\"style\", \"paragraph_format\"]}, {\"edge\": 31, \"target\": \"priority\", \"y\": 0.011351542174484504, \"x\": -0.09497054053975486, \"source\": \"style\", \"pair\": [\"style\", \"priority\"]}, {\"edge\": 31, \"target\": \"priority\", \"y\": 0.4940507554563215, \"x\": 0.6123862973729564, \"source\": \"style\", \"pair\": [\"style\", \"priority\"]}, {\"edge\": 32, \"target\": \"quick_style\", \"y\": 0.011351542174484504, \"x\": -0.09497054053975486, \"source\": \"style\", \"pair\": [\"style\", \"quick_style\"]}, {\"edge\": 32, \"target\": \"quick_style\", \"y\": -0.4289336601489905, \"x\": -0.8190650236424861, \"source\": \"style\", \"pair\": [\"style\", \"quick_style\"]}, {\"edge\": 33, \"target\": \"style_id\", \"y\": 0.011351542174484504, \"x\": -0.09497054053975486, \"source\": \"style\", \"pair\": [\"style\", \"style_id\"]}, {\"edge\": 33, \"target\": \"style_id\", \"y\": -0.8992889136382963, \"x\": -0.01396673359046331, \"source\": \"style\", \"pair\": [\"style\", \"style_id\"]}, {\"edge\": 34, \"target\": \"type\", \"y\": 0.011351542174484504, \"x\": -0.09497054053975486, \"source\": \"style\", \"pair\": [\"style\", \"type\"]}, {\"edge\": 34, \"target\": \"type\", \"y\": 0.6049044896142, \"x\": -0.5554649436252584, \"source\": \"style\", \"pair\": [\"style\", \"type\"]}, {\"edge\": 35, \"target\": \"unhide_when_used\", \"y\": 0.011351542174484504, \"x\": -0.09497054053975486, \"source\": \"style\", \"pair\": [\"style\", \"unhide_when_used\"]}, {\"edge\": 35, \"target\": \"unhide_when_used\", \"y\": -0.6624441140342119, \"x\": -0.6769262745341963, \"source\": \"style\", \"pair\": [\"style\", \"unhide_when_used\"]}, {\"edge\": 36, \"target\": \"alignment\", \"y\": 0.10493527826842786, \"x\": 0.12244225281894952, \"source\": \"paragraph\", \"pair\": [\"paragraph\", \"alignment\"]}, {\"edge\": 36, \"target\": \"alignment\", \"y\": -0.860732534146273, \"x\": 0.41927399453488917, \"source\": \"paragraph\", \"pair\": [\"paragraph\", \"alignment\"]}, {\"edge\": 37, \"target\": \"paragraph_format\", \"y\": 0.10493527826842786, \"x\": 0.12244225281894952, \"source\": \"paragraph\", \"pair\": [\"paragraph\", \"paragraph_format\"]}, {\"edge\": 37, \"target\": \"paragraph_format\", \"y\": -0.08933137429652165, \"x\": 0.14359288817759067, \"source\": \"paragraph\", \"pair\": [\"paragraph\", \"paragraph_format\"]}, {\"edge\": 38, \"target\": \"part\", \"y\": 0.10493527826842786, \"x\": 0.12244225281894952, \"source\": \"paragraph\", \"pair\": [\"paragraph\", \"part\"]}, {\"edge\": 38, \"target\": \"part\", \"y\": 0.5519084072957351, \"x\": 0.8475382203755029, \"source\": \"paragraph\", \"pair\": [\"paragraph\", \"part\"]}, {\"edge\": 39, \"target\": \"runs\", \"y\": 0.10493527826842786, \"x\": 0.12244225281894952, \"source\": \"paragraph\", \"pair\": [\"paragraph\", \"runs\"]}, {\"edge\": 39, \"target\": \"runs\", \"y\": 0.17598135363611841, \"x\": -0.0060947422452651175, \"source\": \"paragraph\", \"pair\": [\"paragraph\", \"runs\"]}, {\"edge\": 40, \"target\": \"style\", \"y\": 0.10493527826842786, \"x\": 0.12244225281894952, \"source\": \"paragraph\", \"pair\": [\"paragraph\", \"style\"]}, {\"edge\": 40, \"target\": \"style\", \"y\": 0.011351542174484504, \"x\": -0.09497054053975486, \"source\": \"paragraph\", \"pair\": [\"paragraph\", \"style\"]}, {\"edge\": 41, \"target\": \"text\", \"y\": 0.10493527826842786, \"x\": 0.12244225281894952, \"source\": \"paragraph\", \"pair\": [\"paragraph\", \"text\"]}, {\"edge\": 41, \"target\": \"text\", \"y\": 0.681909061943749, \"x\": -0.7716889441025861, \"source\": \"paragraph\", \"pair\": [\"paragraph\", \"text\"]}], \"data-4f0b7ab9705b842c62b3de0dd575794f\": [{\"y\": -0.860732534146273, \"x\": 0.41927399453488917, \"name\": \"alignment\"}, {\"y\": -0.08933137429652165, \"x\": 0.14359288817759067, \"name\": \"paragraph_format\"}, {\"y\": 0.5519084072957351, \"x\": 0.8475382203755029, \"name\": \"part\"}, {\"y\": 0.17598135363611841, \"x\": -0.0060947422452651175, \"name\": \"runs\"}, {\"y\": 0.011351542174484504, \"x\": -0.09497054053975486, \"name\": \"style\"}, {\"y\": 0.681909061943749, \"x\": -0.7716889441025861, \"name\": \"text\"}, {\"y\": 0.10493527826842786, \"x\": 0.12244225281894952, \"name\": null}, {\"y\": 0.16436841697720356, \"x\": 0.8414298207907995, \"name\": \"element\"}, {\"y\": -0.17281657093108316, \"x\": -0.9787412218479915, \"name\": \"first_line_indent\"}, {\"y\": -0.5766613060681977, \"x\": 0.5155530786372826, \"name\": \"keep_together\"}, {\"y\": 0.7856892047049392, \"x\": 0.6229211025040413, \"name\": \"keep_with_next\"}, {\"y\": -0.6764320017484695, \"x\": 0.824722201986629, \"name\": \"left_indent\"}, {\"y\": 0.784512839922869, \"x\": -0.4459391746606604, \"name\": \"line_spacing\"}, {\"y\": -0.42401071996859874, \"x\": 0.9292569846644781, \"name\": \"line_spacing_rule\"}, {\"y\": -0.8946203241021952, \"x\": 0.6334958847394001, \"name\": \"page_break_before\"}, {\"y\": 0.8340734722805123, \"x\": 0.3948632867156017, \"name\": \"right_indent\"}, {\"y\": 0.4000071751855765, \"x\": -0.921404660431292, \"name\": \"space_after\"}, {\"y\": -0.9345594422055347, \"x\": 0.19497922639343482, \"name\": \"space_before\"}, {\"y\": 0.7136547390699646, \"x\": 0.06651941913943882, \"name\": \"tab_stops\"}, {\"y\": -0.9416858018516834, \"x\": -0.20195298446431753, \"name\": \"widow_control\"}, {\"y\": -0.0828214619377769, \"x\": 1.0, \"name\": \"bold\"}, {\"y\": -0.5506147379329163, \"x\": -0.4952554962274113, \"name\": \"font\"}, {\"y\": 0.34063038978391835, \"x\": -0.749346467022648, \"name\": \"italic\"}, {\"y\": 0.08808291917044908, \"x\": -0.9154341399977092, \"name\": \"underline\"}, {\"y\": 0.9146678132573675, \"x\": -0.2405040664651614, \"name\": \"base_style\"}, {\"y\": -0.8988895554468513, \"x\": -0.45113887509284345, \"name\": \"builtin\"}, {\"y\": -0.141184427791451, \"x\": -0.780191323584647, \"name\": \"hidden\"}, {\"y\": 0.8848198805677696, \"x\": -0.05066058330996057, \"name\": \"locked\"}, {\"y\": 0.9265373284394496, \"x\": 0.1695673842457122, \"name\": \"name\"}, {\"y\": -0.22705812150000487, \"x\": 0.8302041522879451, \"name\": \"next_paragraph_style\"}, {\"y\": 0.4940507554563215, \"x\": 0.6123862973729564, \"name\": \"priority\"}, {\"y\": -0.4289336601489905, \"x\": -0.8190650236424861, \"name\": \"quick_style\"}, {\"y\": -0.8992889136382963, \"x\": -0.01396673359046331, \"name\": \"style_id\"}, {\"y\": 0.6049044896142, \"x\": -0.5554649436252584, \"name\": \"type\"}, {\"y\": -0.6624441140342119, \"x\": -0.6769262745341963, \"name\": \"unhide_when_used\"}]}}, {\"mode\": \"vega-lite\"});\n",
       "</script>"
      ],
      "text/plain": [
       "alt.LayerChart(...)"
      ]
     },
     "execution_count": 99,
     "metadata": {},
     "output_type": "execute_result"
    }
   ],
   "source": [
    "import altair as alt\n",
    "e = nxa.draw_networkx_edges(G, pos=newpos)  # get the edge layer\n",
    "n = nxa.draw_networkx_nodes(G, pos=newpos)  # get the node layer \n",
    "\n",
    "# modify the code to change the encodings\n",
    "n = n.mark_point(filled=True,fillOpacity = 1).encode(\n",
    "    # fillOpacity = 1,\n",
    "    tooltip = ['name:N'],\n",
    "    size = alt.value(200),\n",
    "\n",
    "    opacity = alt.value(0.75)\n",
    ")\n",
    "e = e.mark_line(\n",
    "    color = 'gray',\n",
    "    strokeWidth = 0.7,\n",
    "    strokeOpacity = 0.5\n",
    ")\n",
    "text = n.mark_text(align='center',\n",
    "    baseline='middle',\n",
    "    # dy=-5  # Nudges text to right so it doesn't appear on top of the bar\n",
    ").encode(\n",
    "    # fillOpacity = 1,\n",
    "    text = 'name:N',\n",
    "    size = alt.value(15),\n",
    ")\n",
    "\n",
    "# remove the exception to render\n",
    "# YOUR CODE HERE\n",
    "# raise NotImplementedError()\n",
    "\n",
    "(e+text).properties(\n",
    "    width=500,height=500\n",
    ")"
   ]
  }
 ],
 "metadata": {
  "kernelspec": {
   "display_name": "Python 3.7.8 ('.pular_venv': venv)",
   "language": "python",
   "name": "python3"
  },
  "language_info": {
   "codemirror_mode": {
    "name": "ipython",
    "version": 3
   },
   "file_extension": ".py",
   "mimetype": "text/x-python",
   "name": "python",
   "nbconvert_exporter": "python",
   "pygments_lexer": "ipython3",
   "version": "3.7.8"
  },
  "orig_nbformat": 4,
  "vscode": {
   "interpreter": {
    "hash": "923e031a042b0333d984d7caca79dafbd2f9b4aa22c38d0c8e773771fd0f73dd"
   }
  }
 },
 "nbformat": 4,
 "nbformat_minor": 2
}
