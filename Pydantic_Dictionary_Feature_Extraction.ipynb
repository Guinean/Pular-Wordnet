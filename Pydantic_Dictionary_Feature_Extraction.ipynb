{
 "cells": [
  {
   "cell_type": "code",
   "execution_count": null,
   "metadata": {},
   "outputs": [],
   "source": [
    "import pickle"
   ]
  },
  {
   "cell_type": "code",
   "execution_count": null,
   "metadata": {},
   "outputs": [],
   "source": [
    "with open('parsed_objectClass_outcomes_dict.pkl', 'rb') as file:\n",
    "    # Call load method to deserialze\n",
    "    parsed_objectClass_outcomes_dict = pickle.load(file, encoding='utf-8')\n",
    "\n",
    "parsed_object_list = parsed_objectClass_outcomes_dict['parsed_object_list'] \n",
    "para_text_lookup = parsed_objectClass_outcomes_dict['para_text_lookup'] \n",
    "root_ind_list = parsed_objectClass_outcomes_dict['root_ind_list'] \n",
    "subroot_ind_list = parsed_objectClass_outcomes_dict['subroot_ind_list'] \n",
    "lemma_ind_list = parsed_objectClass_outcomes_dict['lemma_ind_list'] \n",
    "root_and_lemma_one_line = parsed_objectClass_outcomes_dict['root_and_lemma_one_line'] \n",
    "root_lookup = parsed_objectClass_outcomes_dict['root_lookup'] \n",
    "lemma_lookup = parsed_objectClass_outcomes_dict['lemma_lookup'] \n",
    "# 7/24/2022 5:34pm\n",
    "# total paras:  32507\n",
    "# parsed paras:  32040\n",
    "# handled errors:  467\n",
    "# failed paras:  0\n",
    "# roots:  6381\n",
    "# subroots:  713\n",
    "# lemmas:  9610\n",
    "# root_and_lemma_one_line:  1438\n",
    "# additional cleaner rejects:  0\n",
    "# additional error rejects:  0\n",
    "# num entities:  15266\n",
    "# num_good_paras_of_other_content:  16774"
   ]
  }
 ],
 "metadata": {
  "kernelspec": {
   "display_name": "Python 3.7.8 ('umich_venv': venv)",
   "language": "python",
   "name": "python3"
  },
  "language_info": {
   "name": "python",
   "version": "3.7.8"
  },
  "orig_nbformat": 4,
  "vscode": {
   "interpreter": {
    "hash": "e58195c56dd2d98a34f3bc72205804df24c71b9c58b287bd8ee118c861714de2"
   }
  }
 },
 "nbformat": 4,
 "nbformat_minor": 2
}
